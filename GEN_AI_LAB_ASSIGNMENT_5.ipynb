{
  "nbformat": 4,
  "nbformat_minor": 0,
  "metadata": {
    "colab": {
      "provenance": [],
      "authorship_tag": "ABX9TyM4+alNYERjn9hAbEawkd9C",
      "include_colab_link": true
    },
    "kernelspec": {
      "name": "python3",
      "display_name": "Python 3"
    },
    "language_info": {
      "name": "python"
    }
  },
  "cells": [
    {
      "cell_type": "markdown",
      "metadata": {
        "id": "view-in-github",
        "colab_type": "text"
      },
      "source": [
        "<a href=\"https://colab.research.google.com/github/2303A52479/GEN-AI-LAB/blob/main/GEN_AI_LAB_ASSIGNMENT_5.ipynb\" target=\"_parent\"><img src=\"https://colab.research.google.com/assets/colab-badge.svg\" alt=\"Open In Colab\"/></a>"
      ]
    },
    {
      "cell_type": "markdown",
      "source": [
        "5.1"
      ],
      "metadata": {
        "id": "oHKHQ5NKIUdu"
      }
    },
    {
      "cell_type": "code",
      "source": [
        "import numpy as np\n",
        "\n",
        "def sigmoid(x):\n",
        "    return 1 / (1 + np.exp(-x))\n",
        "\n",
        "def sigmoid_derivative(x):\n",
        "    return x * (1 - x)\n",
        "\n",
        "def train_ann(X, y, hidden_neurons=4, learning_rate=0.1, epochs=5000):\n",
        "    input_neurons = X.shape[1]\n",
        "    output_neurons = 1\n",
        "\n",
        "    np.random.seed(42)\n",
        "    W1 = np.random.randn(input_neurons, hidden_neurons)\n",
        "    b1 = np.zeros((1, hidden_neurons))\n",
        "    W2 = np.random.randn(hidden_neurons, output_neurons)\n",
        "    b2 = np.zeros((1, output_neurons))\n",
        "\n",
        "    for _ in range(epochs):\n",
        "        # Forward Pass\n",
        "        Z1 = np.dot(X, W1) + b1\n",
        "        A1 = sigmoid(Z1)\n",
        "        Z2 = np.dot(A1, W2) + b2\n",
        "        A2 = Z2  # Linear activation in output layer\n",
        "\n",
        "        # Compute Error\n",
        "        error = A2 - y\n",
        "\n",
        "        # Backpropagation\n",
        "        dA2 = error  # Derivative of loss w.r.t. output\n",
        "        dW2 = np.dot(A1.T, dA2)\n",
        "        db2 = np.sum(dA2, axis=0, keepdims=True)\n",
        "\n",
        "        dA1 = np.dot(dA2, W2.T) * sigmoid_derivative(A1)\n",
        "        dW1 = np.dot(X.T, dA1)\n",
        "        db1 = np.sum(dA1, axis=0, keepdims=True)\n",
        "\n",
        "        # Update Weights and Biases\n",
        "        W1 -= learning_rate * dW1\n",
        "        b1 -= learning_rate * db1\n",
        "        W2 -= learning_rate * dW2\n",
        "        b2 -= learning_rate * db2\n",
        "\n",
        "    return W1, b1, W2, b2\n",
        "\n",
        "def predict(X, W1, b1, W2, b2):\n",
        "    A1 = sigmoid(np.dot(X, W1) + b1)\n",
        "    return np.dot(A1, W2) + b2  # Linear activation\n",
        "\n",
        "def mean_squared_error(y_true, y_pred):\n",
        "    return np.mean((y_true - y_pred) ** 2)\n",
        "\n",
        "# Training Data\n",
        "X_train = np.array([[0.1, 0.2], [0.2, 0.3], [0.3, 0.4], [0.6, 0.7], [0.7, 0.8], [0.8, 0.9]])\n",
        "y_train = np.array([[0.3432], [0.3490], [0.3548], [0.3720], [0.3776], [0.3832]])\n",
        "\n",
        "# Train the ANN\n",
        "W1, b1, W2, b2 = train_ann(X_train, y_train)\n",
        "\n",
        "# Test Data\n",
        "X_test = np.array([[0.4, 0.5], [0.5, 0.6]])\n",
        "y_test = np.array([[0.3606], [0.3663]])\n",
        "\n",
        "# Predictions\n",
        "train_predictions = predict(X_train, W1, b1, W2, b2)\n",
        "test_predictions = predict(X_test, W1, b1, W2, b2)\n",
        "\n",
        "# Mean Squared Error Calculation\n",
        "train_mse = mean_squared_error(y_train, train_predictions)\n",
        "test_mse = mean_squared_error(y_test, test_predictions)\n",
        "\n",
        "print(\"Training MSE:\", train_mse)\n",
        "print(\"Testing MSE:\", test_mse)\n",
        "\n",
        "# User Input Prediction\n",
        "x1, x2 = map(float, input(\"Enter x1 and x2: \").split())\n",
        "user_input = np.array([[x1, x2]])\n",
        "user_prediction = predict(user_input, W1, b1, W2, b2)\n",
        "print(\"Predicted Output:\", user_prediction[0][0])\n"
      ],
      "metadata": {
        "colab": {
          "base_uri": "https://localhost:8080/"
        },
        "id": "8uOqIvN1IZZ2",
        "outputId": "1ea73e79-5f7f-4d9c-f89f-036157935268"
      },
      "execution_count": null,
      "outputs": [
        {
          "output_type": "stream",
          "name": "stdout",
          "text": [
            "Training MSE: 1.634837951453011e-06\n",
            "Testing MSE: 4.444192696647366e-06\n",
            "Enter x1 and x2: 0.4 0.5\n",
            "Predicted Output: 0.36267324517018507\n"
          ]
        }
      ]
    },
    {
      "cell_type": "markdown",
      "source": [
        "5.2"
      ],
      "metadata": {
        "id": "BYeLnM65NT0V"
      }
    },
    {
      "cell_type": "code",
      "source": [
        "import numpy as np\n",
        "\n",
        "# Sigmoid and linear activation functions with their derivatives\n",
        "def sigmoid(x): return 1 / (1 + np.exp(-x))\n",
        "def sigmoid_derivative(x): return x * (1 - x)\n",
        "def linear(x): return x\n",
        "def linear_derivative(x): return 1\n",
        "\n",
        "# Training and test data\n",
        "X_train = np.array([[0.2, 0.1], [0.3, 0.2], [0.4, 0.3], [0.7, 0.6], [0.8, 0.7], [0.9, 0.8]])\n",
        "y_train = np.array([[0.3441], [0.3500], [0.3558], [0.3729], [0.3785], [0.3841]])\n",
        "X_test = np.array([[0.5, 0.4], [0.6, 0.5]])\n",
        "y_test = np.array([[0.3615], [0.3672]])\n",
        "\n",
        "# Hyperparameters\n",
        "input_size, hidden_size, output_size, learning_rate, epochs = 2, 2, 1, 0.1, 10000\n",
        "W1, b1 = np.random.randn(input_size, hidden_size), np.random.randn(hidden_size)\n",
        "W2, b2 = np.random.randn(hidden_size, output_size), np.random.randn(output_size)\n",
        "\n",
        "# Training loop\n",
        "for epoch in range(epochs):\n",
        "    # Forward pass\n",
        "    hidden_output = sigmoid(np.dot(X_train, W1) + b1)\n",
        "    output = linear(np.dot(hidden_output, W2) + b2)\n",
        "\n",
        "    # MSE loss\n",
        "    error = y_train - output\n",
        "    mse = np.mean(error ** 2)\n",
        "\n",
        "    # Backward pass (gradients)\n",
        "    d_output = error * linear_derivative(output)\n",
        "    d_W2 = np.dot(hidden_output.T, d_output)\n",
        "    d_b2 = np.sum(d_output, axis=0)\n",
        "    d_hidden = np.dot(d_output, W2.T) * sigmoid_derivative(hidden_output)\n",
        "    d_W1 = np.dot(X_train.T, d_hidden)\n",
        "    d_b1 = np.sum(d_hidden, axis=0)\n",
        "\n",
        "    # Update weights and biases\n",
        "    W1 += learning_rate * d_W1\n",
        "    b1 += learning_rate * d_b1\n",
        "    W2 += learning_rate * d_W2\n",
        "    b2 += learning_rate * d_b2\n",
        "\n",
        "    if epoch % 1000 == 0:\n",
        "        print(f\"Epoch {epoch}, MSE: {mse}\")\n",
        "\n",
        "# Prediction function\n",
        "def predict(X):\n",
        "    return linear(sigmoid(np.dot(X, W1) + b1).dot(W2) + b2)\n",
        "\n",
        "# Calculate MSE on training and testing data\n",
        "train_mse = np.mean((y_train - predict(X_train)) ** 2)\n",
        "test_mse = np.mean((y_test - predict(X_test)) ** 2)\n",
        "print(f\"Training MSE: {train_mse}, Testing MSE: {test_mse}\")\n",
        "\n",
        "# User input for prediction\n",
        "x1, x2 = float(input(\"Enter x1: \")), float(input(\"Enter x2: \"))\n",
        "print(f\"Predicted output: {predict(np.array([[x1, x2]]))[0][0]}\")"
      ],
      "metadata": {
        "id": "xeyr-NviMtz3",
        "colab": {
          "base_uri": "https://localhost:8080/"
        },
        "outputId": "cfe26f3a-cb28-4059-cb8d-899326bfefbe"
      },
      "execution_count": 1,
      "outputs": [
        {
          "output_type": "stream",
          "name": "stdout",
          "text": [
            "Epoch 0, MSE: 0.7467884755131392\n",
            "Epoch 1000, MSE: 1.29570635921048e-08\n",
            "Epoch 2000, MSE: 8.218766506099262e-09\n",
            "Epoch 3000, MSE: 8.217447559054965e-09\n",
            "Epoch 4000, MSE: 8.216154839647644e-09\n",
            "Epoch 5000, MSE: 8.214862111987966e-09\n",
            "Epoch 6000, MSE: 8.213569376004318e-09\n",
            "Epoch 7000, MSE: 8.212276631731417e-09\n",
            "Epoch 8000, MSE: 8.210983879239068e-09\n",
            "Epoch 9000, MSE: 8.209691118588502e-09\n",
            "Training MSE: 8.208398349844469e-09, Testing MSE: 8.093233352918711e-09\n",
            "Enter x1: 0.5\n",
            "Enter x2: 0.4\n",
            "Predicted output: 0.3614014198880778\n"
          ]
        }
      ]
    },
    {
      "cell_type": "markdown",
      "source": [
        "5.3"
      ],
      "metadata": {
        "id": "xGsFrL_PNeW9"
      }
    },
    {
      "cell_type": "code",
      "source": [
        "import numpy as np\n",
        "\n",
        "# Sigmoid and linear activation functions with derivatives\n",
        "def sigmoid(x): return 1 / (1 + np.exp(-x))\n",
        "def sigmoid_derivative(x): return x * (1 - x)\n",
        "def linear(x): return x\n",
        "def linear_derivative(x): return 1\n",
        "\n",
        "# Training and Test Data\n",
        "X_train = np.array([[1, 2], [2, 3], [5, 6], [6, 7], [7, 8], [8, 9]])\n",
        "y_train = np.array([[0.4140], [0.4611], [0.5501], [0.5656], [0.5765], [0.5840]])\n",
        "X_test = np.array([[3, 4], [4, 5]])\n",
        "y_test = np.array([[0.4992], [0.5285]])\n",
        "\n",
        "# Hyperparameters\n",
        "input_size, hidden_size, output_size, learning_rate, epochs = 2, 2, 1, 0.1, 10000\n",
        "W1, b1 = np.random.randn(input_size, hidden_size), np.random.randn(hidden_size)\n",
        "W2, b2 = np.random.randn(hidden_size, output_size), np.random.randn(output_size)\n",
        "\n",
        "# Training loop\n",
        "for epoch in range(epochs):\n",
        "    hidden_input = np.dot(X_train, W1) + b1\n",
        "    hidden_output = sigmoid(hidden_input)\n",
        "    final_input = np.dot(hidden_output, W2) + b2\n",
        "    final_output = linear(final_input)\n",
        "\n",
        "    error = y_train - final_output\n",
        "    mse = np.mean(error ** 2)\n",
        "\n",
        "    # Backpropagation\n",
        "    d_output = error * linear_derivative(final_output)\n",
        "    d_W2 = np.dot(hidden_output.T, d_output)\n",
        "    d_b2 = np.sum(d_output, axis=0)\n",
        "    d_hidden = np.dot(d_output, W2.T) * sigmoid_derivative(hidden_output)\n",
        "    d_W1 = np.dot(X_train.T, d_hidden)\n",
        "    d_b1 = np.sum(d_hidden, axis=0)\n",
        "\n",
        "    # Update weights and biases\n",
        "    W1 += learning_rate * d_W1\n",
        "    b1 += learning_rate * d_b1\n",
        "    W2 += learning_rate * d_W2\n",
        "    b2 += learning_rate * d_b2\n",
        "\n",
        "    if epoch % 1000 == 0:\n",
        "        print(f\"Epoch {epoch}, MSE: {mse}\")\n",
        "\n",
        "# Prediction function\n",
        "def predict(X):\n",
        "    hidden_output = sigmoid(np.dot(X, W1) + b1)\n",
        "    return linear(np.dot(hidden_output, W2) + b2)\n",
        "\n",
        "# Calculate MSE on training and testing data\n",
        "train_mse = np.mean((y_train - predict(X_train)) ** 2)\n",
        "test_mse = np.mean((y_test - predict(X_test)) ** 2)\n",
        "print(f\"Training MSE: {train_mse}, Testing MSE: {test_mse}\")\n",
        "\n",
        "# User input for prediction\n",
        "x1, x2 = float(input(\"Enter x1: \")), float(input(\"Enter x2: \"))\n",
        "print(f\"Predicted output: {predict(np.array([[x1, x2]]))[0][0]}\")\n"
      ],
      "metadata": {
        "colab": {
          "base_uri": "https://localhost:8080/"
        },
        "id": "r18gLEbXNStm",
        "outputId": "2fb72b13-a3be-4286-b2f4-b0ba915969db"
      },
      "execution_count": 2,
      "outputs": [
        {
          "output_type": "stream",
          "name": "stdout",
          "text": [
            "Epoch 0, MSE: 0.015552680925238246\n",
            "Epoch 1000, MSE: 1.4621516658050689e-06\n",
            "Epoch 2000, MSE: 1.4300336755540037e-06\n",
            "Epoch 3000, MSE: 1.402280737737168e-06\n",
            "Epoch 4000, MSE: 1.37540687763979e-06\n",
            "Epoch 5000, MSE: 1.3493403364362708e-06\n",
            "Epoch 6000, MSE: 1.3240510760364721e-06\n",
            "Epoch 7000, MSE: 1.2995107074942947e-06\n",
            "Epoch 8000, MSE: 1.2756919806230574e-06\n",
            "Epoch 9000, MSE: 1.2525687341967674e-06\n",
            "Training MSE: 1.230115852353039e-06, Testing MSE: 5.178986857664978e-07\n",
            "Enter x1: 3\n",
            "Enter x2: 4\n",
            "Predicted output: 0.49831093844431845\n"
          ]
        }
      ]
    }
  ]
}