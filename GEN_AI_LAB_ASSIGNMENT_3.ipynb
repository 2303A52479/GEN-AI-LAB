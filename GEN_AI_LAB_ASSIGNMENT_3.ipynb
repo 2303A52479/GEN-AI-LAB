{
  "nbformat": 4,
  "nbformat_minor": 0,
  "metadata": {
    "colab": {
      "provenance": [],
      "authorship_tag": "ABX9TyObXcm/p/rhEQ5fFtzVYkGy",
      "include_colab_link": true
    },
    "kernelspec": {
      "name": "python3",
      "display_name": "Python 3"
    },
    "language_info": {
      "name": "python"
    }
  },
  "cells": [
    {
      "cell_type": "markdown",
      "metadata": {
        "id": "view-in-github",
        "colab_type": "text"
      },
      "source": [
        "<a href=\"https://colab.research.google.com/github/2303A52479/GEN-AI-LAB/blob/main/GEN_AI_LAB_ASSIGNMENT_3.ipynb\" target=\"_parent\"><img src=\"https://colab.research.google.com/assets/colab-badge.svg\" alt=\"Open In Colab\"/></a>"
      ]
    },
    {
      "cell_type": "markdown",
      "source": [
        "question-1"
      ],
      "metadata": {
        "id": "SpkgsHATHSUi"
      }
    },
    {
      "cell_type": "code",
      "execution_count": null,
      "metadata": {
        "colab": {
          "base_uri": "https://localhost:8080/"
        },
        "id": "nmAyegLBAAXd",
        "outputId": "9c9dd429-16c2-40d8-cccb-adf9177a3171"
      },
      "outputs": [
        {
          "output_type": "stream",
          "name": "stdout",
          "text": [
            "Min x for f(x): 0.0\n"
          ]
        }
      ],
      "source": [
        "import numpy as np\n",
        "\n",
        "def grad_desc_f1_np(lr=0.01, iters=1000):\n",
        "    x = 0.0\n",
        "    for _ in range(iters):\n",
        "         grad = 20 * x**3 + 6 * x\n",
        "         x -= lr * grad\n",
        "    return x\n",
        "\n",
        "print(\"Min x for f(x):\", grad_desc_f1_np())"
      ]
    },
    {
      "cell_type": "markdown",
      "source": [
        "question-2"
      ],
      "metadata": {
        "id": "M3D2VltPHTSh"
      }
    },
    {
      "cell_type": "code",
      "source": [
        "import numpy as np\n",
        "\n",
        "def grad_desc_f2_np(lr=0.01, iters=1000):\n",
        "    x, y = 0.0, 0.0  # Initialize x and y\n",
        "    for _ in range(iters):\n",
        "        grad_x = 6 * x  # Partial derivative w.r.t x\n",
        "        grad_y = -5 * np.exp(-y)  # Partial derivative w.r.t y\n",
        "        x -= lr * grad_x\n",
        "        y -= lr * grad_y\n",
        "    return x, y\n",
        "\n",
        "print(\"Min x, y for g(x, y):\", grad_desc_f2_np())"
      ],
      "metadata": {
        "colab": {
          "base_uri": "https://localhost:8080/"
        },
        "id": "hg9YBjFJCjRi",
        "outputId": "57b160e6-90c2-4d30-c8ba-6235c46b3766"
      },
      "execution_count": null,
      "outputs": [
        {
          "output_type": "stream",
          "name": "stdout",
          "text": [
            "Min x, y for g(x, y): (0.0, 3.9337602416246904)\n"
          ]
        }
      ]
    },
    {
      "cell_type": "markdown",
      "source": [
        "question-3"
      ],
      "metadata": {
        "id": "ms0KhVKDHT3o"
      }
    },
    {
      "cell_type": "code",
      "source": [
        "import numpy as np\n",
        "\n",
        "def grad_desc_f3_np(lr=0.01, iters=1000):\n",
        "    x = 0.0  # Initialize x\n",
        "    for _ in range(iters):\n",
        "         grad = np.exp(-x) / (1 + np.exp(-x))**2  # Derivative of sigmoid function\n",
        "         x -= lr * grad\n",
        "    return x\n",
        "\n",
        "print(\"Min x for z(x):\", grad_desc_f3_np())\n",
        "\n"
      ],
      "metadata": {
        "colab": {
          "base_uri": "https://localhost:8080/"
        },
        "id": "NlxgifhwE0rK",
        "outputId": "9eb96c20-927f-48ab-c0bf-d74e001d88ba"
      },
      "execution_count": null,
      "outputs": [
        {
          "output_type": "stream",
          "name": "stdout",
          "text": [
            "Min x for z(x): -1.8618354629020137\n"
          ]
        }
      ]
    },
    {
      "cell_type": "markdown",
      "source": [
        "question-4"
      ],
      "metadata": {
        "id": "PyFZhnL2HVMx"
      }
    },
    {
      "cell_type": "code",
      "source": [
        "import numpy as np\n",
        "\n",
        "def grad_desc_f4_np(expected, inputs, lr=0.01, iters=1000):\n",
        "    M, C = 0.0, 0.0  # Initialize parameters\n",
        "    inputs = np.array(inputs)\n",
        "    expected = np.array(expected)\n",
        "    n = len(inputs)\n",
        "\n",
        "    for _ in range(iters):\n",
        "        predicted = M * inputs + C  # Predicted outputs\n",
        "        errors = expected - predicted  # Error terms\n",
        "        grad_M = -2 * np.sum(errors * inputs) / n  # Gradient w.r.t M\n",
        "        grad_C = -2 * np.sum(errors) / n  # Gradient w.r.t C\n",
        "        M -= lr * grad_M  # Update M\n",
        "        C -= lr * grad_C  # Update C\n",
        "\n",
        "    return M, C\n",
        "\n",
        "# Example usage\n",
        "expected = [2, 4, 6]  # Expected outputs\n",
        "inputs = [1, 2, 3]  # Input values\n",
        "optimal_M, optimal_C = grad_desc_f4_np(expected, inputs)\n",
        "print(\"Optimal M, C:\", optimal_M, optimal_C)"
      ],
      "metadata": {
        "colab": {
          "base_uri": "https://localhost:8080/"
        },
        "id": "nelCy-ZlGRzC",
        "outputId": "017c5fca-34ff-4320-8b86-a8e3b6d034bd"
      },
      "execution_count": null,
      "outputs": [
        {
          "output_type": "stream",
          "name": "stdout",
          "text": [
            "Optimal M, C: 1.97078250602932 0.06641823135781669\n"
          ]
        }
      ]
    }
  ]
}